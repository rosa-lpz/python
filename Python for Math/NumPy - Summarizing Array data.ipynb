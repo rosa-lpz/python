{
 "cells": [
  {
   "cell_type": "code",
   "execution_count": 3,
   "metadata": {
    "executionInfo": {
     "elapsed": 530,
     "status": "ok",
     "timestamp": 1700591451467,
     "user": {
      "displayName": "Rosa Lopez",
      "userId": "16174263324770793287"
     },
     "user_tz": 420
    },
    "id": "ubU0V1AcaiFI"
   },
   "outputs": [],
   "source": [
    "import numpy as np"
   ]
  },
  {
   "cell_type": "markdown",
   "metadata": {
    "id": "wD5cevbPmg-P"
   },
   "source": [
    "# Data"
   ]
  },
  {
   "cell_type": "code",
   "execution_count": 4,
   "metadata": {
    "colab": {
     "base_uri": "https://localhost:8080/"
    },
    "executionInfo": {
     "elapsed": 366,
     "status": "ok",
     "timestamp": 1700591453503,
     "user": {
      "displayName": "Rosa Lopez",
      "userId": "16174263324770793287"
     },
     "user_tz": 420
    },
    "id": "EvtdIXvlams0",
    "outputId": "72beb3a3-daac-4b76-93ab-e6c60bf9db41"
   },
   "outputs": [
    {
     "data": {
      "text/plain": [
       "array([[0, 5, 1],\n",
       "       [0, 2, 0],\n",
       "       [1, 1, 2],\n",
       "       [2, 2, 1],\n",
       "       [0, 0, 0]])"
      ]
     },
     "execution_count": 4,
     "metadata": {},
     "output_type": "execute_result"
    }
   ],
   "source": [
    "data_lists_of_lists = [[0,5,1],\n",
    "                        [0,2,0],\n",
    "                        [1,1,2],\n",
    "                        [2,2,1],\n",
    "                        [0,0,0]]\n",
    "\n",
    "\n",
    "arr=np.array(data_lists_of_lists)\n",
    "arr"
   ]
  },
  {
   "cell_type": "code",
   "execution_count": null,
   "metadata": {
    "id": "EQoShGUGJL-s"
   },
   "outputs": [],
   "source": []
  },
  {
   "cell_type": "code",
   "execution_count": null,
   "metadata": {
    "id": "Iue5wbYzJBlc"
   },
   "outputs": [],
   "source": []
  },
  {
   "cell_type": "markdown",
   "metadata": {
    "id": "XIsq9gvUJCN6"
   },
   "source": [
    "# Aggregating methods\n",
    "\n",
    "* sum()\n",
    "* min()\n",
    "* max()\n",
    "* mean()\n",
    "* cunsum()\n"
   ]
  },
  {
   "cell_type": "markdown",
   "metadata": {
    "id": "IJyzc4xGT-B_"
   },
   "source": [
    "# Summing Data\n",
    "The aggregating method, .sum, adds up all elements in the entire array."
   ]
  },
  {
   "cell_type": "code",
   "execution_count": 5,
   "metadata": {
    "colab": {
     "base_uri": "https://localhost:8080/"
    },
    "executionInfo": {
     "elapsed": 366,
     "status": "ok",
     "timestamp": 1700591457934,
     "user": {
      "displayName": "Rosa Lopez",
      "userId": "16174263324770793287"
     },
     "user_tz": 420
    },
    "id": "C6-O3BP6DXTc",
    "outputId": "e6a8228d-b71e-44b7-fa38-26cc2287736f"
   },
   "outputs": [
    {
     "data": {
      "text/plain": [
       "17"
      ]
     },
     "execution_count": 5,
     "metadata": {},
     "output_type": "execute_result"
    }
   ],
   "source": [
    "arr.sum()"
   ]
  },
  {
   "cell_type": "markdown",
   "metadata": {
    "id": "JUcTnwBNUBrh"
   },
   "source": [
    "## Summing rows\n",
    "\n",
    "Setting axis equal to one will sum the values of all columns in each row, creating row totals. Here, the totals represent the security breaches experienced by all clients in a given year"
   ]
  },
  {
   "cell_type": "code",
   "execution_count": 6,
   "metadata": {
    "colab": {
     "base_uri": "https://localhost:8080/"
    },
    "executionInfo": {
     "elapsed": 467,
     "status": "ok",
     "timestamp": 1700591459850,
     "user": {
      "displayName": "Rosa Lopez",
      "userId": "16174263324770793287"
     },
     "user_tz": 420
    },
    "id": "LyTB9L1uUCBg",
    "outputId": "604ad356-8cd9-486c-fed1-463d8d4ff87d"
   },
   "outputs": [
    {
     "data": {
      "text/plain": [
       "array([ 3, 10,  4])"
      ]
     },
     "execution_count": 6,
     "metadata": {},
     "output_type": "execute_result"
    }
   ],
   "source": [
    "arr.sum(axis=0)"
   ]
  },
  {
   "cell_type": "markdown",
   "metadata": {
    "id": "IpU_JiBbJQKm"
   },
   "source": [
    "## Summing columns"
   ]
  },
  {
   "cell_type": "code",
   "execution_count": 7,
   "metadata": {
    "colab": {
     "base_uri": "https://localhost:8080/"
    },
    "executionInfo": {
     "elapsed": 368,
     "status": "ok",
     "timestamp": 1700591461671,
     "user": {
      "displayName": "Rosa Lopez",
      "userId": "16174263324770793287"
     },
     "user_tz": 420
    },
    "id": "k6iKbEnzJdxE",
    "outputId": "517bd1ee-497f-43af-ea0c-d214ca0e7f9a"
   },
   "outputs": [
    {
     "data": {
      "text/plain": [
       "array([6, 2, 4, 5, 0])"
      ]
     },
     "execution_count": 7,
     "metadata": {},
     "output_type": "execute_result"
    }
   ],
   "source": [
    "arr.sum(axis=1)"
   ]
  }
 ],
 "metadata": {
  "colab": {
   "authorship_tag": "ABX9TyMFHxC1Iccr/YmaZ7O7JLAE",
   "provenance": []
  },
  "kernelspec": {
   "display_name": "Python 3 (ipykernel)",
   "language": "python",
   "name": "python3"
  },
  "language_info": {
   "codemirror_mode": {
    "name": "ipython",
    "version": 3
   },
   "file_extension": ".py",
   "mimetype": "text/x-python",
   "name": "python",
   "nbconvert_exporter": "python",
   "pygments_lexer": "ipython3",
   "version": "3.11.2"
  }
 },
 "nbformat": 4,
 "nbformat_minor": 1
}
