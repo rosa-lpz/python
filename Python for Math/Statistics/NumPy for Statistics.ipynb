{
 "cells": [
  {
   "cell_type": "markdown",
   "id": "c920e382-5243-4705-8721-1c93eb309223",
   "metadata": {},
   "source": [
    "# NumPy for Statistics\n",
    "\n",
    "**References**\n",
    "* Youtube video: https://youtu.be/DcfYgePyedM\n",
    "* NumPy Math functions: https://numpy.org/doc/stable/reference/routines.math.html\n",
    "* NumPy Statistics: https://numpy.org/doc/stable/reference/routines.statistics.html"
   ]
  },
  {
   "cell_type": "code",
   "execution_count": 3,
   "id": "d8e0a072-0140-4b6a-9c7e-a91e2cb7a933",
   "metadata": {},
   "outputs": [],
   "source": [
    "import numpy as np\n",
    "import matplotlib.pyplot as plt"
   ]
  },
  {
   "cell_type": "markdown",
   "id": "8aa413e5-1335-4c89-8071-ba85a61b4f91",
   "metadata": {},
   "source": [
    "## Basics"
   ]
  },
  {
   "cell_type": "markdown",
   "id": "e5e805b5-3cc5-4f4d-b9d0-d852a64015e4",
   "metadata": {},
   "source": [
    "### Creating arrays"
   ]
  },
  {
   "cell_type": "code",
   "execution_count": 9,
   "id": "bf9cc4b7-5651-4e5a-9908-0d7eecfae508",
   "metadata": {},
   "outputs": [],
   "source": [
    "a1 = np.array([3,5,7,3])\n",
    "a2=np.zeros(10)\n",
    "a3=np.ones(10)\n",
    "a4=np.random.random(10) # Random numbers between 0 and 1\n",
    "a5=np.random.randn(10) # Numbers in a normal distribution\n",
    "a6=np.linspace(0,10, 100) # Numbers from 0 to 10 and equally spaces 100 elements apart\n",
    "a7=np.arange(0,10,0.02) # Numbers from 0 to 10 with a separation of 0.02\n",
    "a8 = 2 * np.random.randn(1000) + 10"
   ]
  },
  {
   "cell_type": "markdown",
   "id": "93b07187-b083-46df-b1e5-90a593e531a6",
   "metadata": {},
   "source": [
    "## Visualizations"
   ]
  },
  {
   "cell_type": "markdown",
   "id": "b64d5981-ebf9-4938-a31e-e8c5e9e3b4bd",
   "metadata": {},
   "source": [
    "## Histogram"
   ]
  },
  {
   "cell_type": "code",
   "execution_count": 5,
   "id": "57b353c1-31a2-4517-9da5-48fbe1e8f627",
   "metadata": {},
   "outputs": [
    {
     "data": {
      "text/plain": [
       "(array([2., 1., 0., 2., 1., 0., 0., 1., 1., 2.]),\n",
       " array([0.06674931, 0.15766799, 0.24858667, 0.33950536, 0.43042404,\n",
       "        0.52134272, 0.6122614 , 0.70318009, 0.79409877, 0.88501745,\n",
       "        0.97593613]),\n",
       " <BarContainer object of 10 artists>)"
      ]
     },
     "execution_count": 5,
     "metadata": {},
     "output_type": "execute_result"
    },
    {
     "data": {
      "image/png": "[encoded data removed]",
      "text/plain": [
       "<Figure size 640x480 with 1 Axes>"
      ]
     },
     "metadata": {},
     "output_type": "display_data"
    }
   ],
   "source": [
    "plt.hist(a4)"
   ]
  },
  {
   "cell_type": "markdown",
   "id": "b60bf13b-a4cc-48a1-9684-804a86d0fa30",
   "metadata": {},
   "source": [
    "## Descriptive statistics"
   ]
  },
  {
   "cell_type": "markdown",
   "id": "c0c55e9d-9f9c-4fca-9926-052b2483861c",
   "metadata": {},
   "source": [
    "### Mean, standard deviation, and percentiles of arrays"
   ]
  },
  {
   "cell_type": "markdown",
   "id": "880fcb46-6848-400f-9c21-937201b50255",
   "metadata": {},
   "source": [
    "#### Example 1"
   ]
  },
  {
   "cell_type": "code",
   "execution_count": 11,
   "id": "cdb70885-81c1-4ebb-88ad-a862d4b6d751",
   "metadata": {},
   "outputs": [
    {
     "name": "stdout",
     "output_type": "stream",
     "text": [
      "mean:  4.5\n",
      "average:  4.5\n",
      "std:  1.6583123951777\n",
      "percentile 80:  5.800000000000001\n"
     ]
    }
   ],
   "source": [
    "print(\"mean: \", np.mean(a1))\n",
    "print(\"average: \", np.average(a1))\n",
    "print(\"std: \", np.std(a1))\n",
    "print(\"percentile 80: \", np.percentile(a1,80))"
   ]
  },
  {
   "cell_type": "markdown",
   "id": "e892c234-a32e-4912-a847-d60aa5d918e0",
   "metadata": {},
   "source": [
    "#### Example 2"
   ]
  },
  {
   "cell_type": "code",
   "execution_count": 12,
   "id": "ddc344df-4425-410b-ba5a-c2f8167d15c7",
   "metadata": {},
   "outputs": [
    {
     "name": "stdout",
     "output_type": "stream",
     "text": [
      "mean:  9.915038164843919\n",
      "average:  9.915038164843919\n",
      "std:  1.9451802464163062\n",
      "percentile 80:  11.479225126786975\n"
     ]
    }
   ],
   "source": [
    "print(\"mean: \", np.mean(a8))\n",
    "print(\"average: \", np.average(a8))\n",
    "print(\"std: \", np.std(a8))\n",
    "print(\"percentile 80: \", np.percentile(a8,80))"
   ]
  },
  {
   "cell_type": "code",
   "execution_count": null,
   "id": "34e0c35b-b524-46db-8a2b-3d78301a1994",
   "metadata": {},
   "outputs": [],
   "source": []
  }
 ],
 "metadata": {
  "kernelspec": {
   "display_name": "Python 3 (ipykernel)",
   "language": "python",
   "name": "python3"
  },
  "language_info": {
   "codemirror_mode": {
    "name": "ipython",
    "version": 3
   },
   "file_extension": ".py",
   "mimetype": "text/x-python",
   "name": "python",
   "nbconvert_exporter": "python",
   "pygments_lexer": "ipython3",
   "version": "3.11.5"
  }
 },
 "nbformat": 4,
 "nbformat_minor": 5
}
