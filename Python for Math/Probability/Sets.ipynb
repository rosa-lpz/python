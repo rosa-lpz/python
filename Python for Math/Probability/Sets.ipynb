{
 "cells": [
  {
   "cell_type": "markdown",
   "id": "c2613085-8566-49c1-bb4e-f1a16b8f1aff",
   "metadata": {},
   "source": [
    "# SETS\n",
    "\n",
    "**References**\n",
    "* 2015 - Doing Math with Python_ Use Programming to Explore Algebra, Statistics, Calculus, and More!-No Starch Press"
   ]
  },
  {
   "cell_type": "markdown",
   "id": "53200fe0-36f3-4813-ba18-851e3c439b5c",
   "metadata": {},
   "source": [
    "# Set Construction"
   ]
  },
  {
   "cell_type": "code",
   "execution_count": 3,
   "id": "60aed646-ce6c-43b0-a409-2a4d265a2d54",
   "metadata": {},
   "outputs": [],
   "source": [
    "from sympy import FiniteSet\n",
    "from fractions import Fraction"
   ]
  },
  {
   "cell_type": "markdown",
   "id": "c5c6c81e-4bb8-4e59-8d51-6bbafe1c7a0e",
   "metadata": {},
   "source": [
    "Here, we first import the FiniteSet class from SymPy and then create an\n",
    "object of this class by passing in the set members as arguments."
   ]
  },
  {
   "cell_type": "code",
   "execution_count": 2,
   "id": "57e48301-d8ac-4619-9737-84a21f644ddd",
   "metadata": {},
   "outputs": [
    {
     "data": {
      "text/latex": [
       "$\\displaystyle \\left\\{2, 4, 6\\right\\}$"
      ],
      "text/plain": [
       "{2, 4, 6}"
      ]
     },
     "execution_count": 2,
     "metadata": {},
     "output_type": "execute_result"
    }
   ],
   "source": [
    "s = FiniteSet(2,4,6)\n",
    "s\n"
   ]
  },
  {
   "cell_type": "markdown",
   "id": "562100d3-790b-4af8-851a-6358de50b194",
   "metadata": {},
   "source": [
    "We can store different types of numbers—including integers, floating\n",
    "point numbers, and fractions—in the same set"
   ]
  },
  {
   "cell_type": "code",
   "execution_count": 5,
   "id": "6eca8394-af6c-49c0-ad06-3edf525349c6",
   "metadata": {},
   "outputs": [
    {
     "data": {
      "text/latex": [
       "$\\displaystyle \\left\\{\\frac{1}{5}, 1, 1.5\\right\\}$"
      ],
      "text/plain": [
       "{1/5, 1, 1.5}"
      ]
     },
     "execution_count": 5,
     "metadata": {},
     "output_type": "execute_result"
    }
   ],
   "source": [
    "s = FiniteSet(1, 1.5, Fraction(1, 5))\n",
    "s"
   ]
  },
  {
   "cell_type": "markdown",
   "id": "09ce4075-7422-4210-9d80-50a9986f8f37",
   "metadata": {},
   "source": [
    "The cardinality of a set is the number of members in the set, which you\n",
    "can find by using the len() function:"
   ]
  },
  {
   "cell_type": "code",
   "execution_count": 6,
   "id": "dc947c22-a9ac-4437-b7ba-f6159b9e14b5",
   "metadata": {},
   "outputs": [
    {
     "data": {
      "text/plain": [
       "3"
      ]
     },
     "execution_count": 6,
     "metadata": {},
     "output_type": "execute_result"
    }
   ],
   "source": [
    "s = FiniteSet(1, 1.5, 3)\n",
    "len(s)"
   ]
  },
  {
   "cell_type": "markdown",
   "id": "bd0f2567-88d9-40c1-a7c4-3b40ca4ab370",
   "metadata": {},
   "source": [
    "## Checking wheter a number is in a set"
   ]
  },
  {
   "cell_type": "code",
   "execution_count": null,
   "id": "1a12404e-842a-45f3-ac39-191889b3617e",
   "metadata": {},
   "outputs": [],
   "source": []
  }
 ],
 "metadata": {
  "kernelspec": {
   "display_name": "Python 3 (ipykernel)",
   "language": "python",
   "name": "python3"
  },
  "language_info": {
   "codemirror_mode": {
    "name": "ipython",
    "version": 3
   },
   "file_extension": ".py",
   "mimetype": "text/x-python",
   "name": "python",
   "nbconvert_exporter": "python",
   "pygments_lexer": "ipython3",
   "version": "3.11.5"
  }
 },
 "nbformat": 4,
 "nbformat_minor": 5
}
