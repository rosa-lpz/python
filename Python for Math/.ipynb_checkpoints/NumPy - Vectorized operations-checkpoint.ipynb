{
 "cells": [
  {
   "cell_type": "markdown",
   "metadata": {
    "id": "s5ejsXP9MJ01"
   },
   "source": [
    "# Vectorized operations"
   ]
  },
  {
   "cell_type": "code",
   "execution_count": 2,
   "metadata": {
    "executionInfo": {
     "elapsed": 5,
     "status": "ok",
     "timestamp": 1700628378046,
     "user": {
      "displayName": "Rosa Lopez",
      "userId": "16174263324770793287"
     },
     "user_tz": 420
    },
    "id": "ubU0V1AcaiFI"
   },
   "outputs": [],
   "source": [
    "import numpy as np"
   ]
  },
  {
   "cell_type": "code",
   "execution_count": 3,
   "metadata": {
    "colab": {
     "base_uri": "https://localhost:8080/"
    },
    "executionInfo": {
     "elapsed": 205,
     "status": "ok",
     "timestamp": 1700628379260,
     "user": {
      "displayName": "Rosa Lopez",
      "userId": "16174263324770793287"
     },
     "user_tz": 420
    },
    "id": "YFfbVhWAMQdD",
    "outputId": "9eb1b0c8-dbb8-4c7e-ebfb-4e0a5db1a649"
   },
   "outputs": [
    {
     "data": {
      "text/plain": [
       "array([[1, 2, 3],\n",
       "       [4, 5, 5]])"
      ]
     },
     "execution_count": 3,
     "metadata": {},
     "output_type": "execute_result"
    }
   ],
   "source": [
    "array = [\n",
    "    [1,2,3],\n",
    "    [4,5,5],\n",
    "   ]\n",
    "\n",
    "arr1 = np.array(array)\n",
    "arr1"
   ]
  },
  {
   "cell_type": "code",
   "execution_count": 4,
   "metadata": {
    "colab": {
     "base_uri": "https://localhost:8080/"
    },
    "executionInfo": {
     "elapsed": 208,
     "status": "ok",
     "timestamp": 1700628380541,
     "user": {
      "displayName": "Rosa Lopez",
      "userId": "16174263324770793287"
     },
     "user_tz": 420
    },
    "id": "ihD0TSXMNd3w",
    "outputId": "b8ba8405-c3b4-4285-cc85-8fe88c1cafc7"
   },
   "outputs": [
    {
     "data": {
      "text/plain": [
       "(2, 3)"
      ]
     },
     "execution_count": 4,
     "metadata": {},
     "output_type": "execute_result"
    }
   ],
   "source": [
    "#Array  dimensions\n",
    "arr1.shape\n",
    "\n",
    "# arr1.shape[0] --> Rows\n",
    "# arr1.shape[1] -- > Columns"
   ]
  },
  {
   "cell_type": "markdown",
   "metadata": {
    "id": "PwN4ympxMRfX"
   },
   "source": [
    "## Sum Comparison: NumPy & Python"
   ]
  },
  {
   "cell_type": "markdown",
   "metadata": {
    "id": "IFDIBX6-PIs_"
   },
   "source": [
    "### Syntax in python"
   ]
  },
  {
   "cell_type": "code",
   "execution_count": 5,
   "metadata": {
    "executionInfo": {
     "elapsed": 280,
     "status": "ok",
     "timestamp": 1700628383292,
     "user": {
      "displayName": "Rosa Lopez",
      "userId": "16174263324770793287"
     },
     "user_tz": 420
    },
    "id": "nSBNJplaMQkX"
   },
   "outputs": [],
   "source": [
    "for row in range(arr1.shape[0]):\n",
    "\tfor column in range(arr1.shape[1]):\n",
    "\t\tarr1[row][column] += 3"
   ]
  },
  {
   "cell_type": "code",
   "execution_count": 6,
   "metadata": {
    "colab": {
     "base_uri": "https://localhost:8080/"
    },
    "executionInfo": {
     "elapsed": 233,
     "status": "ok",
     "timestamp": 1700628388918,
     "user": {
      "displayName": "Rosa Lopez",
      "userId": "16174263324770793287"
     },
     "user_tz": 420
    },
    "id": "F2ny_vDfMQnr",
    "outputId": "c1223fad-6781-4fad-e0aa-b5e0b5f1001f"
   },
   "outputs": [
    {
     "data": {
      "text/plain": [
       "array([[4, 5, 6],\n",
       "       [7, 8, 8]])"
      ]
     },
     "execution_count": 6,
     "metadata": {},
     "output_type": "execute_result"
    }
   ],
   "source": [
    "arr1"
   ]
  },
  {
   "cell_type": "markdown",
   "metadata": {
    "id": "n_hSlSqtPtEs"
   },
   "source": [
    "### Syntax NumPy"
   ]
  },
  {
   "cell_type": "code",
   "execution_count": 7,
   "metadata": {
    "executionInfo": {
     "elapsed": 220,
     "status": "ok",
     "timestamp": 1700628390720,
     "user": {
      "displayName": "Rosa Lopez",
      "userId": "16174263324770793287"
     },
     "user_tz": 420
    },
    "id": "M5qxT0d6Ncg5"
   },
   "outputs": [],
   "source": [
    "arr2 = np.array(array)"
   ]
  },
  {
   "cell_type": "code",
   "execution_count": 8,
   "metadata": {
    "colab": {
     "base_uri": "https://localhost:8080/"
    },
    "executionInfo": {
     "elapsed": 286,
     "status": "ok",
     "timestamp": 1700628391876,
     "user": {
      "displayName": "Rosa Lopez",
      "userId": "16174263324770793287"
     },
     "user_tz": 420
    },
    "id": "KYsWdP21MQqj",
    "outputId": "b13c40fc-bf1a-4f9f-82f8-1121f01f7434"
   },
   "outputs": [
    {
     "data": {
      "text/plain": [
       "array([[4, 5, 6],\n",
       "       [7, 8, 8]])"
      ]
     },
     "execution_count": 8,
     "metadata": {},
     "output_type": "execute_result"
    }
   ],
   "source": [
    "sum = arr2 +3\n",
    "sum"
   ]
  },
  {
   "cell_type": "code",
   "execution_count": null,
   "metadata": {
    "id": "Iue5wbYzJBlc"
   },
   "outputs": [],
   "source": []
  },
  {
   "cell_type": "markdown",
   "metadata": {
    "id": "pRhIB35fW7fC"
   },
   "source": [
    "## Multiplying by a scalar"
   ]
  },
  {
   "cell_type": "code",
   "execution_count": 9,
   "metadata": {
    "colab": {
     "base_uri": "https://localhost:8080/"
    },
    "executionInfo": {
     "elapsed": 9,
     "status": "ok",
     "timestamp": 1700628558610,
     "user": {
      "displayName": "Rosa Lopez",
      "userId": "16174263324770793287"
     },
     "user_tz": 420
    },
    "id": "eUbJJAvTXABx",
    "outputId": "387f4147-edc4-4451-e9e2-1d02c3c76f89"
   },
   "outputs": [
    {
     "data": {
      "text/plain": [
       "array([[ 3,  6,  9],\n",
       "       [12, 15, 15]])"
      ]
     },
     "execution_count": 9,
     "metadata": {},
     "output_type": "execute_result"
    }
   ],
   "source": [
    "arr3 = np.array(array)\n",
    "arr3 * 3"
   ]
  },
  {
   "cell_type": "markdown",
   "metadata": {
    "id": "jHuRKWg-XH-I"
   },
   "source": [
    "## Adding two arrays (same shape)"
   ]
  },
  {
   "cell_type": "code",
   "execution_count": 10,
   "metadata": {
    "colab": {
     "base_uri": "https://localhost:8080/"
    },
    "executionInfo": {
     "elapsed": 192,
     "status": "ok",
     "timestamp": 1700628585664,
     "user": {
      "displayName": "Rosa Lopez",
      "userId": "16174263324770793287"
     },
     "user_tz": 420
    },
    "id": "7pWONFrmXKNB",
    "outputId": "91994fd3-94bf-499a-debd-e7d90e58d147"
   },
   "outputs": [
    {
     "name": "stdout",
     "output_type": "stream",
     "text": [
      "Sum: \n",
      "[[1 3 3]\n",
      " [5 5 7]]\n"
     ]
    }
   ],
   "source": [
    "array_a = np.array([[1, 2, 3],[4, 5, 6]])\n",
    "array_b = np.array([[0, 1, 0],[1, 0, 1]])\n",
    "\n",
    "print(\"Sum: \")\n",
    "print(array_a + array_b)"
   ]
  },
  {
   "cell_type": "markdown",
   "metadata": {
    "id": "ih4DomUpXP0u"
   },
   "source": [
    "## Multiplying two arrays"
   ]
  },
  {
   "cell_type": "code",
   "execution_count": 11,
   "metadata": {
    "colab": {
     "base_uri": "https://localhost:8080/"
    },
    "executionInfo": {
     "elapsed": 286,
     "status": "ok",
     "timestamp": 1700628606591,
     "user": {
      "displayName": "Rosa Lopez",
      "userId": "16174263324770793287"
     },
     "user_tz": 420
    },
    "id": "bmGv0HcUXRmo",
    "outputId": "a6555fc5-210e-4358-90fc-bf5e43f2d4bc"
   },
   "outputs": [
    {
     "name": "stdout",
     "output_type": "stream",
     "text": [
      "Result: \n",
      "[[0 2 0]\n",
      " [4 0 6]]\n"
     ]
    }
   ],
   "source": [
    "# array_a = np.array([[1, 2, 3],[4, 5, 6]])\n",
    "# array_b = np.array([[0, 1, 0],[1, 0, 1]])\n",
    "\n",
    "print(\"Result: \")\n",
    "print(array_a * array_b)"
   ]
  },
  {
   "cell_type": "markdown",
   "metadata": {
    "id": "CvmeVIGFXy7R"
   },
   "source": [
    "## Boolean maks | Filter arrays"
   ]
  },
  {
   "cell_type": "code",
   "execution_count": 12,
   "metadata": {
    "colab": {
     "base_uri": "https://localhost:8080/"
    },
    "executionInfo": {
     "elapsed": 176,
     "status": "ok",
     "timestamp": 1700628861679,
     "user": {
      "displayName": "Rosa Lopez",
      "userId": "16174263324770793287"
     },
     "user_tz": 420
    },
    "id": "Qkfo9MgvYD_h",
    "outputId": "8b23aac4-46ef-4a1a-c11c-0cb4120e2e0f"
   },
   "outputs": [
    {
     "data": {
      "text/plain": [
       "array([[False, False,  True],\n",
       "       [ True,  True,  True]])"
      ]
     },
     "execution_count": 12,
     "metadata": {},
     "output_type": "execute_result"
    }
   ],
   "source": [
    "array_bl = np.array([[1, 2, 3],[4, 5, 6]])\n",
    "array_bl > 2"
   ]
  },
  {
   "cell_type": "code",
   "execution_count": null,
   "metadata": {
    "id": "zGEL4tpcZCxJ"
   },
   "outputs": [],
   "source": []
  },
  {
   "cell_type": "markdown",
   "metadata": {
    "id": "Z4TabfgMZDEa"
   },
   "source": [
    "# Vectorize Python code\n",
    "\n",
    "We can even create our own vectorized functions from Python functions using np-dot-vectorize. For example, let's check whether each string element in an array has a length greater than two. But this doesn't work; instead, the code returns True, because the array has more than two elements.\n",
    "\n",
    "Len is a python function not a NumPy function, so it can't vectorize.\n",
    "We need to vectorized this."
   ]
  },
  {
   "cell_type": "code",
   "execution_count": 13,
   "metadata": {
    "colab": {
     "base_uri": "https://localhost:8080/"
    },
    "executionInfo": {
     "elapsed": 10,
     "status": "ok",
     "timestamp": 1700629088491,
     "user": {
      "displayName": "Rosa Lopez",
      "userId": "16174263324770793287"
     },
     "user_tz": 420
    },
    "id": "A_7dB9omZFo5",
    "outputId": "1539db67-27d5-4425-95fb-58a187c417a0"
   },
   "outputs": [
    {
     "data": {
      "text/plain": [
       "True"
      ]
     },
     "execution_count": 13,
     "metadata": {},
     "output_type": "execute_result"
    }
   ],
   "source": [
    "array_v = np.array ([\"NumPy\", \"is\", \"awesome\"])\n",
    "len(array_v) > 2"
   ]
  },
  {
   "cell_type": "markdown",
   "metadata": {
    "id": "iJD_64voZ9of"
   },
   "source": [
    "## Vectorized"
   ]
  },
  {
   "cell_type": "code",
   "execution_count": 14,
   "metadata": {
    "executionInfo": {
     "elapsed": 308,
     "status": "ok",
     "timestamp": 1700629430758,
     "user": {
      "displayName": "Rosa Lopez",
      "userId": "16174263324770793287"
     },
     "user_tz": 420
    },
    "id": "pQLDhmwZZ_Dv"
   },
   "outputs": [],
   "source": [
    "vectorized_len = np.vectorize(len)"
   ]
  },
  {
   "cell_type": "code",
   "execution_count": 15,
   "metadata": {
    "colab": {
     "base_uri": "https://localhost:8080/"
    },
    "executionInfo": {
     "elapsed": 279,
     "status": "ok",
     "timestamp": 1700629500599,
     "user": {
      "displayName": "Rosa Lopez",
      "userId": "16174263324770793287"
     },
     "user_tz": 420
    },
    "id": "E4cX2eklaoJ3",
    "outputId": "5e66cbbf-4bbe-4c55-a67b-6675526fa318"
   },
   "outputs": [
    {
     "data": {
      "text/plain": [
       "array([ True, False,  True])"
      ]
     },
     "execution_count": 15,
     "metadata": {},
     "output_type": "execute_result"
    }
   ],
   "source": [
    "vectorized_len(array_v) > 2"
   ]
  }
 ],
 "metadata": {
  "colab": {
   "authorship_tag": "ABX9TyMWYlQOoLHH0ntbigt3kcbf",
   "provenance": []
  },
  "kernelspec": {
   "display_name": "Python 3 (ipykernel)",
   "language": "python",
   "name": "python3"
  },
  "language_info": {
   "codemirror_mode": {
    "name": "ipython",
    "version": 3
   },
   "file_extension": ".py",
   "mimetype": "text/x-python",
   "name": "python",
   "nbconvert_exporter": "python",
   "pygments_lexer": "ipython3",
   "version": "3.11.5"
  }
 },
 "nbformat": 4,
 "nbformat_minor": 4
}
